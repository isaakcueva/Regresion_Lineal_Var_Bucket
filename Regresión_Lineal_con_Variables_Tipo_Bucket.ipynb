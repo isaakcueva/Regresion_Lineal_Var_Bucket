{
  "nbformat": 4,
  "nbformat_minor": 0,
  "metadata": {
    "colab": {
      "provenance": [],
      "authorship_tag": "ABX9TyNzfjrRdwRh5po8mv8q6ukz",
      "include_colab_link": true
    },
    "kernelspec": {
      "name": "python3",
      "display_name": "Python 3"
    },
    "language_info": {
      "name": "python"
    }
  },
  "cells": [
    {
      "cell_type": "markdown",
      "metadata": {
        "id": "view-in-github",
        "colab_type": "text"
      },
      "source": [
        "<a href=\"https://colab.research.google.com/github/isaakcueva/Regresion_Lineal_Var_Bucket/blob/main/Regresi%C3%B3n_Lineal_con_Variables_Tipo_Bucket.ipynb\" target=\"_parent\"><img src=\"https://colab.research.google.com/assets/colab-badge.svg\" alt=\"Open In Colab\"/></a>"
      ]
    },
    {
      "cell_type": "markdown",
      "source": [
        "#Tarea: Regresión Lineal con Variables Tipo Bucket\n",
        "\n",
        "# Nombre: Isaac Cueva\n",
        "\n",
        "# Fecha: 13/05/2025"
      ],
      "metadata": {
        "id": "FV3mQJC1l8VQ"
      }
    },
    {
      "cell_type": "markdown",
      "source": [
        "![Descripción de la imagen](https://encrypted-tbn0.gstatic.com/images?q=tbn:ANd9GcRP9d63jC144Usqa_NjecnoWcJXV60JuFTJLA&s)"
      ],
      "metadata": {
        "id": "dJZ4WTM_n9xp"
      }
    },
    {
      "cell_type": "markdown",
      "source": [
        "###Google Colab Setup"
      ],
      "metadata": {
        "id": "37MkEiy9oFZ2"
      }
    },
    {
      "cell_type": "code",
      "execution_count": null,
      "metadata": {
        "colab": {
          "base_uri": "https://localhost:8080/"
        },
        "id": "QqhGT6aMl2qZ",
        "outputId": "3a508e99-5797-44bb-afad-7e94e88e9d4d"
      },
      "outputs": [
        {
          "output_type": "stream",
          "name": "stdout",
          "text": [
            "Requirement already satisfied: pyspark in /usr/local/lib/python3.11/dist-packages (3.5.1)\n",
            "Requirement already satisfied: py4j==0.10.9.7 in /usr/local/lib/python3.11/dist-packages (from pyspark) (0.10.9.7)\n",
            "Collecting findspark\n",
            "  Downloading findspark-2.0.1-py2.py3-none-any.whl.metadata (352 bytes)\n",
            "Downloading findspark-2.0.1-py2.py3-none-any.whl (4.4 kB)\n",
            "Installing collected packages: findspark\n",
            "Successfully installed findspark-2.0.1\n"
          ]
        }
      ],
      "source": [
        "# Installing required packages\n",
        "!pip install pyspark\n",
        "!pip install findspark"
      ]
    },
    {
      "cell_type": "code",
      "source": [
        "# PySpark is the Spark API for Python. In this lab, we use PySpark to initialize the spark context.\n",
        "from pyspark import SparkContext, SparkConf\n",
        "from pyspark.sql import SparkSession"
      ],
      "metadata": {
        "id": "uLxCvKQ3oJVH"
      },
      "execution_count": null,
      "outputs": []
    },
    {
      "cell_type": "code",
      "source": [
        "# Provides findspark.init() to make pyspark importable as a regular library.\n",
        "import findspark\n",
        "findspark.init()"
      ],
      "metadata": {
        "id": "aX_Ocf9moKy5"
      },
      "execution_count": null,
      "outputs": []
    },
    {
      "cell_type": "code",
      "source": [
        "# Creating a spark context class\n",
        "sc = SparkContext()\n",
        "\n",
        "# Creating a spark session\n",
        "spark = SparkSession \\\n",
        "    .builder \\\n",
        "    .appName(\"Regresión Lineal\") \\\n",
        "    .config(\"spark.some.config.option\", \"some-value\") \\\n",
        "    .getOrCreate()"
      ],
      "metadata": {
        "id": "4DJo8g7_oN8p"
      },
      "execution_count": null,
      "outputs": []
    },
    {
      "cell_type": "code",
      "source": [
        "spark"
      ],
      "metadata": {
        "colab": {
          "base_uri": "https://localhost:8080/",
          "height": 219
        },
        "id": "Gvx2eSADoW1s",
        "outputId": "d3009e38-3335-4519-ccb2-7b32e53b7aa9"
      },
      "execution_count": null,
      "outputs": [
        {
          "output_type": "execute_result",
          "data": {
            "text/plain": [
              "<pyspark.sql.session.SparkSession at 0x79202431f290>"
            ],
            "text/html": [
              "\n",
              "            <div>\n",
              "                <p><b>SparkSession - in-memory</b></p>\n",
              "                \n",
              "        <div>\n",
              "            <p><b>SparkContext</b></p>\n",
              "\n",
              "            <p><a href=\"http://f667bcc7364c:4040\">Spark UI</a></p>\n",
              "\n",
              "            <dl>\n",
              "              <dt>Version</dt>\n",
              "                <dd><code>v3.5.1</code></dd>\n",
              "              <dt>Master</dt>\n",
              "                <dd><code>local[*]</code></dd>\n",
              "              <dt>AppName</dt>\n",
              "                <dd><code>pyspark-shell</code></dd>\n",
              "            </dl>\n",
              "        </div>\n",
              "        \n",
              "            </div>\n",
              "        "
            ]
          },
          "metadata": {},
          "execution_count": 5
        }
      ]
    },
    {
      "cell_type": "markdown",
      "source": [
        "#TAREAS"
      ],
      "metadata": {
        "id": "DN0V89YjoTdb"
      }
    },
    {
      "cell_type": "markdown",
      "source": [
        "1. Creando buckets para departure time\n",
        "\n",
        "- Convierta el flight departure time de valores numéricos entre 0 a 24, a valores en buckets. Use buckets de 3 horas [0,3,6,...,21,24]. Guarde este datos como la variable depart_bucket.\n",
        "\n"
      ],
      "metadata": {
        "id": "3DbQhh3MopBr"
      }
    },
    {
      "cell_type": "code",
      "source": [
        "# Cargar el dataset\n",
        "file_path = 'flights-larger.csv'\n",
        "flights_df = spark.read.csv(file_path, header=True, inferSchema=True)\n",
        "\n",
        "# Mostrar las primeras filas para entender la estructura\n",
        "flights_df.show(5)"
      ],
      "metadata": {
        "colab": {
          "base_uri": "https://localhost:8080/"
        },
        "id": "NLrVyijdooyk",
        "outputId": "c65911df-6fda-4e43-93d7-a4f9c1b3d813"
      },
      "execution_count": null,
      "outputs": [
        {
          "output_type": "stream",
          "name": "stdout",
          "text": [
            "+---+---+---+-------+------+---+----+------+--------+-----+\n",
            "|mon|dom|dow|carrier|flight|org|mile|depart|duration|delay|\n",
            "+---+---+---+-------+------+---+----+------+--------+-----+\n",
            "| 10| 10|  1|     OO|  5836|ORD| 157|  8.18|      51|   27|\n",
            "|  1|  4|  1|     OO|  5866|ORD| 466|  15.5|     102|   NA|\n",
            "| 11| 22|  1|     OO|  6016|ORD| 738|  7.17|     127|  -19|\n",
            "|  2| 14|  5|     B6|   199|JFK|2248| 21.17|     365|   60|\n",
            "|  5| 25|  3|     WN|  1675|SJC| 386| 12.92|      85|   22|\n",
            "+---+---+---+-------+------+---+----+------+--------+-----+\n",
            "only showing top 5 rows\n",
            "\n"
          ]
        }
      ]
    },
    {
      "cell_type": "code",
      "source": [
        "# Imprimir el esquema del DataFrame\n",
        "flights_df.printSchema()\n"
      ],
      "metadata": {
        "colab": {
          "base_uri": "https://localhost:8080/"
        },
        "id": "TAEvxZMatF_y",
        "outputId": "4863dfb5-725d-4101-9674-f5e93fe6b5fe"
      },
      "execution_count": null,
      "outputs": [
        {
          "output_type": "stream",
          "name": "stdout",
          "text": [
            "root\n",
            " |-- mon: integer (nullable = true)\n",
            " |-- dom: integer (nullable = true)\n",
            " |-- dow: integer (nullable = true)\n",
            " |-- carrier: string (nullable = true)\n",
            " |-- flight: integer (nullable = true)\n",
            " |-- org: string (nullable = true)\n",
            " |-- mile: integer (nullable = true)\n",
            " |-- depart: double (nullable = true)\n",
            " |-- duration: integer (nullable = true)\n",
            " |-- delay: string (nullable = true)\n",
            "\n"
          ]
        }
      ]
    },
    {
      "cell_type": "code",
      "source": [
        "from pyspark.sql.functions import col, sum\n",
        "\n",
        "# Verificar valores nulos por cada columna\n",
        "null_counts = flights_df.select([sum(col(c).isNull().cast(\"int\")).alias(c) for c in flights_df.columns])\n",
        "\n",
        "# Mostrar la cantidad de valores nulos por columna\n",
        "null_counts.show()\n"
      ],
      "metadata": {
        "colab": {
          "base_uri": "https://localhost:8080/"
        },
        "id": "jx4nQWkYsy-J",
        "outputId": "33d9bf0d-016f-458f-cd48-58d80b8c30f6"
      },
      "execution_count": null,
      "outputs": [
        {
          "output_type": "stream",
          "name": "stdout",
          "text": [
            "+---+---+---+-------+------+---+----+------+--------+-----+\n",
            "|mon|dom|dow|carrier|flight|org|mile|depart|duration|delay|\n",
            "+---+---+---+-------+------+---+----+------+--------+-----+\n",
            "|  0|  0|  0|      0|     0|  0|   0|     0|       0|    0|\n",
            "+---+---+---+-------+------+---+----+------+--------+-----+\n",
            "\n"
          ]
        }
      ]
    },
    {
      "cell_type": "code",
      "source": [
        "from pyspark.sql.functions import col\n",
        "\n",
        "# Convertir 'delay' a tipo numérico (float), lo que convierte los valores no numéricos a null\n",
        "flights_df = flights_df.withColumn(\"delay\", col(\"delay\").cast(\"float\"))\n",
        "\n",
        "# Verificar el tipo de la columna después de la conversión\n",
        "flights_df.printSchema()\n"
      ],
      "metadata": {
        "colab": {
          "base_uri": "https://localhost:8080/"
        },
        "id": "HyXpou77tdOa",
        "outputId": "cac163c1-02fa-4f86-d994-10e8ff013399"
      },
      "execution_count": null,
      "outputs": [
        {
          "output_type": "stream",
          "name": "stdout",
          "text": [
            "root\n",
            " |-- mon: integer (nullable = true)\n",
            " |-- dom: integer (nullable = true)\n",
            " |-- dow: integer (nullable = true)\n",
            " |-- carrier: string (nullable = true)\n",
            " |-- flight: integer (nullable = true)\n",
            " |-- org: string (nullable = true)\n",
            " |-- mile: integer (nullable = true)\n",
            " |-- depart: double (nullable = true)\n",
            " |-- duration: integer (nullable = true)\n",
            " |-- delay: float (nullable = true)\n",
            "\n"
          ]
        }
      ]
    },
    {
      "cell_type": "code",
      "source": [
        "# Verificar la cantidad de valores nulos en la columna 'delay'\n",
        "null_delay_count = flights_df.filter(col(\"delay\").isNull()).count()\n",
        "print(f\"Cantidad de valores nulos en 'delay': {null_delay_count}\")\n"
      ],
      "metadata": {
        "colab": {
          "base_uri": "https://localhost:8080/"
        },
        "id": "aTMmgXOKtgiG",
        "outputId": "791a71d2-3c90-4b55-8052-16dd8f4ddaee"
      },
      "execution_count": null,
      "outputs": [
        {
          "output_type": "stream",
          "name": "stdout",
          "text": [
            "Cantidad de valores nulos en 'delay': 16711\n"
          ]
        }
      ]
    },
    {
      "cell_type": "code",
      "source": [
        "# Calcular la mediana de la columna 'delay'\n",
        "median_delay = flights_df.approxQuantile(\"delay\", [0.5], 0.01)[0]\n",
        "print(f\"Mediana de 'delay': {median_delay}\")\n",
        "\n",
        "# Reemplazar los valores nulos en la columna 'delay' por la mediana calculada\n",
        "flights_df_clean = flights_df.fillna({'delay': median_delay})\n",
        "\n",
        "# Verificar si aún quedan valores nulos en la columna 'delay'\n",
        "null_delay_count_clean = flights_df_clean.filter(col(\"delay\").isNull()).count()\n",
        "print(f\"Cantidad de valores nulos en 'delay' después de la limpieza: {null_delay_count_clean}\")\n"
      ],
      "metadata": {
        "colab": {
          "base_uri": "https://localhost:8080/"
        },
        "id": "trsHqQYbtnjz",
        "outputId": "2fdcf240-5415-4043-aca7-4068cb6cc0ee"
      },
      "execution_count": null,
      "outputs": [
        {
          "output_type": "stream",
          "name": "stdout",
          "text": [
            "Mediana de 'delay': 15.0\n",
            "Cantidad de valores nulos en 'delay' después de la limpieza: 0\n"
          ]
        }
      ]
    },
    {
      "cell_type": "code",
      "source": [
        "# Eliminar las filas con valores nulos en 'delay' si es necesario\n",
        "flights_df_clean = flights_df_clean.filter(col(\"delay\").isNotNull())\n",
        "\n",
        "# Verificar las primeras filas después de la limpieza\n",
        "flights_df_clean.show(5)\n"
      ],
      "metadata": {
        "colab": {
          "base_uri": "https://localhost:8080/"
        },
        "id": "Upj2FYCntw5u",
        "outputId": "f1565573-6117-4ec4-c7e9-6c7e785d7a2f"
      },
      "execution_count": null,
      "outputs": [
        {
          "output_type": "stream",
          "name": "stdout",
          "text": [
            "+---+---+---+-------+------+---+----+------+--------+-----+\n",
            "|mon|dom|dow|carrier|flight|org|mile|depart|duration|delay|\n",
            "+---+---+---+-------+------+---+----+------+--------+-----+\n",
            "| 10| 10|  1|     OO|  5836|ORD| 157|  8.18|      51| 27.0|\n",
            "|  1|  4|  1|     OO|  5866|ORD| 466|  15.5|     102| 15.0|\n",
            "| 11| 22|  1|     OO|  6016|ORD| 738|  7.17|     127|-19.0|\n",
            "|  2| 14|  5|     B6|   199|JFK|2248| 21.17|     365| 60.0|\n",
            "|  5| 25|  3|     WN|  1675|SJC| 386| 12.92|      85| 22.0|\n",
            "+---+---+---+-------+------+---+----+------+--------+-----+\n",
            "only showing top 5 rows\n",
            "\n"
          ]
        }
      ]
    },
    {
      "cell_type": "code",
      "source": [
        "from pyspark.sql.functions import when\n",
        "\n",
        "# Crear buckets para departure time\n",
        "flights_df_clean = flights_df_clean.withColumn(\n",
        "    'depart_bucket',\n",
        "    when((col('depart') >= 0) & (col('depart') < 3), '0-3')\n",
        "    .when((col('depart') >= 3) & (col('depart') < 6), '3-6')\n",
        "    .when((col('depart') >= 6) & (col('depart') < 9), '6-9')\n",
        "    .when((col('depart') >= 9) & (col('depart') < 12), '9-12')\n",
        "    .when((col('depart') >= 12) & (col('depart') < 15), '12-15')\n",
        "    .when((col('depart') >= 15) & (col('depart') < 18), '15-18')\n",
        "    .when((col('depart') >= 18) & (col('depart') < 21), '18-21')\n",
        "    .when((col('depart') >= 21) & (col('depart') < 24), '21-24')\n",
        "    .otherwise('Unknown')  # Valor por defecto si no cae en ningún rango\n",
        ")\n",
        "\n",
        "# Verificar el resultado\n",
        "flights_df_clean.select('depart', 'depart_bucket').show(5)\n"
      ],
      "metadata": {
        "colab": {
          "base_uri": "https://localhost:8080/"
        },
        "id": "SWEOxEtGoTAI",
        "outputId": "88ca80f7-929f-4320-f4f9-81f8e6366bf5"
      },
      "execution_count": null,
      "outputs": [
        {
          "output_type": "stream",
          "name": "stdout",
          "text": [
            "+------+-------------+\n",
            "|depart|depart_bucket|\n",
            "+------+-------------+\n",
            "|  8.18|          6-9|\n",
            "|  15.5|        15-18|\n",
            "|  7.17|          6-9|\n",
            "| 21.17|        21-24|\n",
            "| 12.92|        12-15|\n",
            "+------+-------------+\n",
            "only showing top 5 rows\n",
            "\n"
          ]
        }
      ]
    },
    {
      "cell_type": "markdown",
      "source": [
        "- Realice one-hot encoding a los valores en buckets calculados. Guarde estos datos como la variable depart_dummy."
      ],
      "metadata": {
        "id": "j1BYIqfBqCN3"
      }
    },
    {
      "cell_type": "code",
      "source": [
        "from pyspark.ml.feature import StringIndexer, OneHotEncoder\n",
        "from pyspark.ml import Pipeline\n",
        "\n",
        "# Realizar el StringIndexer para convertir las categorías en índices\n",
        "indexer_depart = StringIndexer(inputCol=\"depart_bucket\", outputCol=\"depart_bucket_index\")\n",
        "\n",
        "# Realizar el OneHotEncoder para crear las variables binarias\n",
        "encoder_depart = OneHotEncoder(inputCol=\"depart_bucket_index\", outputCol=\"depart_dummy\")\n",
        "\n",
        "# Crear el pipeline con los pasos de indexación y codificación\n",
        "pipeline_depart = Pipeline(stages=[indexer_depart, encoder_depart])\n",
        "\n",
        "# Aplicar el pipeline a los datos\n",
        "model_depart = pipeline_depart.fit(flights_df_clean)\n",
        "flights_df_clean = model_depart.transform(flights_df_clean)\n",
        "\n",
        "# Verificar las nuevas columnas generadas\n",
        "flights_df_clean.select('depart', 'depart_bucket', 'depart_bucket_index', 'depart_dummy').show(5)\n"
      ],
      "metadata": {
        "colab": {
          "base_uri": "https://localhost:8080/"
        },
        "id": "YvaE5jadp8mo",
        "outputId": "57b0c7b4-6356-48bd-f51a-cbdbc2b79590"
      },
      "execution_count": null,
      "outputs": [
        {
          "output_type": "stream",
          "name": "stdout",
          "text": [
            "+------+-------------+-------------------+-------------+\n",
            "|depart|depart_bucket|depart_bucket_index| depart_dummy|\n",
            "+------+-------------+-------------------+-------------+\n",
            "|  8.18|          6-9|                4.0|(7,[4],[1.0])|\n",
            "|  15.5|        15-18|                0.0|(7,[0],[1.0])|\n",
            "|  7.17|          6-9|                4.0|(7,[4],[1.0])|\n",
            "| 21.17|        21-24|                5.0|(7,[5],[1.0])|\n",
            "| 12.92|        12-15|                1.0|(7,[1],[1.0])|\n",
            "+------+-------------+-------------------+-------------+\n",
            "only showing top 5 rows\n",
            "\n"
          ]
        }
      ]
    },
    {
      "cell_type": "code",
      "source": [
        "# Realizar el StringIndexer para convertir las categorías en índices\n",
        "indexer_org = StringIndexer(inputCol=\"org\", outputCol=\"org_index\")\n",
        "\n",
        "# Realizar el OneHotEncoder para crear las variables binarias\n",
        "encoder_org = OneHotEncoder(inputCol=\"org_index\", outputCol=\"org_dummy\")\n",
        "\n",
        "# Crear el pipeline con los pasos de indexación y codificación\n",
        "pipeline_org = Pipeline(stages=[indexer_org, encoder_org])\n",
        "\n",
        "# Aplicar el pipeline a los datos\n",
        "model_org = pipeline_org.fit(flights_df_clean)\n",
        "flights_df_clean = model_org.transform(flights_df_clean)\n",
        "\n",
        "# Verificar que se haya creado la columna 'org_dummy'\n",
        "flights_df_clean.select('org', 'org_index', 'org_dummy').show(5)\n"
      ],
      "metadata": {
        "colab": {
          "base_uri": "https://localhost:8080/"
        },
        "id": "oWpfvLK_rzTg",
        "outputId": "1d24b4f8-f91b-454f-945b-95b26c3bad85"
      },
      "execution_count": null,
      "outputs": [
        {
          "output_type": "stream",
          "name": "stdout",
          "text": [
            "+---+---------+-------------+\n",
            "|org|org_index|    org_dummy|\n",
            "+---+---------+-------------+\n",
            "|ORD|      0.0|(7,[0],[1.0])|\n",
            "|ORD|      0.0|(7,[0],[1.0])|\n",
            "|ORD|      0.0|(7,[0],[1.0])|\n",
            "|JFK|      2.0|(7,[2],[1.0])|\n",
            "|SJC|      5.0|(7,[5],[1.0])|\n",
            "+---+---------+-------------+\n",
            "only showing top 5 rows\n",
            "\n"
          ]
        }
      ]
    },
    {
      "cell_type": "markdown",
      "source": [
        "2. Modelo de regresión lineal simple para predecir flight delay\n",
        "\n",
        "- Las variables predictoras serán. km, org_dummy, depart_dummy.\n",
        "\n",
        "- Ensamble las variables predictoras en un vector ensamblador llamado features.\n",
        "\n",
        "- Divida el dataset en datos de entrenamiento y evaluación con un radio de 8 a 2.\n",
        "\n",
        "- Cree un modelo de regresión multivariable simple que permita predecir la duración de un vuelo con los datos de entrenamiento.\n",
        "\n",
        "- Determine las predicciones sobre los datos de evaluación.\n",
        "Calcule el valor del R^2 con los datos de evaluación.\n",
        "\n",
        "- Compare este modelo con el modelo que realizó anteriormente. ¿Cuál modelo es mejor?"
      ],
      "metadata": {
        "id": "AWfqK2Suqy1I"
      }
    },
    {
      "cell_type": "code",
      "source": [
        "from pyspark.ml.feature import VectorAssembler\n",
        "\n",
        "# Crear el VectorAssembler con las variables predictoras\n",
        "assembler = VectorAssembler(inputCols=['mile', 'org_dummy', 'depart_dummy'],\n",
        "                            outputCol=\"features\")\n",
        "\n",
        "# Aplicar el assembler\n",
        "flights_df_clean = assembler.transform(flights_df_clean)\n",
        "\n",
        "# Verificar el DataFrame con el vector de características\n",
        "flights_df_clean.select('features', 'delay').show(5)\n"
      ],
      "metadata": {
        "colab": {
          "base_uri": "https://localhost:8080/"
        },
        "id": "ZX0PustXqtEi",
        "outputId": "49811983-947d-445e-f4be-ab38a99776db"
      },
      "execution_count": null,
      "outputs": [
        {
          "output_type": "stream",
          "name": "stdout",
          "text": [
            "+--------------------+-----+\n",
            "|            features|delay|\n",
            "+--------------------+-----+\n",
            "|(15,[0,1,12],[157...| 27.0|\n",
            "|(15,[0,1,8],[466....| 15.0|\n",
            "|(15,[0,1,12],[738...|-19.0|\n",
            "|(15,[0,3,13],[224...| 60.0|\n",
            "|(15,[0,6,9],[386....| 22.0|\n",
            "+--------------------+-----+\n",
            "only showing top 5 rows\n",
            "\n"
          ]
        }
      ]
    },
    {
      "cell_type": "code",
      "source": [
        "# Dividir el dataset en datos de entrenamiento y evaluación (80% entrenamiento, 20% evaluación)\n",
        "train_df, test_df = flights_df_clean.randomSplit([0.8, 0.2], seed=42)\n",
        "\n",
        "# Verificar las dimensiones de los conjuntos\n",
        "train_df.count(), test_df.count()\n"
      ],
      "metadata": {
        "colab": {
          "base_uri": "https://localhost:8080/"
        },
        "id": "hASVLOlfwYZ6",
        "outputId": "10edcdce-7457-4d6c-fef2-25a172d20649"
      },
      "execution_count": null,
      "outputs": [
        {
          "output_type": "execute_result",
          "data": {
            "text/plain": [
              "(219887, 55113)"
            ]
          },
          "metadata": {},
          "execution_count": 65
        }
      ]
    },
    {
      "cell_type": "markdown",
      "source": [
        "#Modelo De Regresión Lineal Simple"
      ],
      "metadata": {
        "id": "M9q0hMo3weOT"
      }
    },
    {
      "cell_type": "code",
      "source": [
        "from pyspark.ml.regression import LinearRegression\n",
        "\n",
        "# Crear el modelo de regresión lineal\n",
        "lr = LinearRegression(featuresCol=\"features\", labelCol=\"delay\")\n",
        "\n",
        "# Entrenar el modelo\n",
        "lr_model = lr.fit(train_df)\n",
        "\n",
        "# Realizar las predicciones\n",
        "predictions = lr_model.transform(test_df)\n",
        "\n",
        "# Calcular el valor R^2\n",
        "from pyspark.ml.evaluation import RegressionEvaluator\n",
        "evaluator = RegressionEvaluator(labelCol=\"delay\", predictionCol=\"prediction\", metricName=\"r2\")\n",
        "\n",
        "r2_lr = evaluator.evaluate(predictions)\n",
        "print(f\"R^2 para el modelo de regresión lineal: {r2_lr}\")\n"
      ],
      "metadata": {
        "colab": {
          "base_uri": "https://localhost:8080/"
        },
        "id": "cYY0QsfiwdHK",
        "outputId": "56ca8bb0-a3e7-446e-e645-9c91aa345a9c"
      },
      "execution_count": null,
      "outputs": [
        {
          "output_type": "stream",
          "name": "stdout",
          "text": [
            "R^2 para el modelo de regresión lineal: 0.04411356197227101\n"
          ]
        }
      ]
    },
    {
      "cell_type": "markdown",
      "source": [
        "Compare este modelo con el modelo que realizó anteriormente. ¿Cuál modelo es mejor?\n",
        "\n",
        "A comparación del modelo de Regresión Lineal elaborado la práctica anterior,el cual fue de 0,017, este presenta un aumento leve aunque igual muy bajo. La razón principal es la falta de variables para poder predecir el retraso de vuelos adecuadamente."
      ],
      "metadata": {
        "id": "eT5Q5DFowquK"
      }
    },
    {
      "cell_type": "markdown",
      "source": [
        "#Modelo De Regresión Múltiple"
      ],
      "metadata": {
        "id": "2hcdZyJEyvkd"
      }
    },
    {
      "cell_type": "markdown",
      "source": [
        "2. Modelo de regresión polinómica de grado 2 para predecir flight delay\n",
        "\n",
        "- Cree un modelo de regresión polinómica de grado dos, usando las variables predictoras  km, org_dummy, depart_dummy.\n",
        "\n",
        "- Determine las predicciones sobre los datos de evaluación.\n",
        "\n",
        "- Calcule el valor del R^2 con los datos de evaluación.\n",
        "\n",
        "- Compare este modelo con el modelo que realizó anteriormente. ¿Cuál modelo es mejor?"
      ],
      "metadata": {
        "id": "PPQBzzGVxTd2"
      }
    },
    {
      "cell_type": "code",
      "source": [
        "# Aplicar transformación polinómica de grado 2 a las características para el conjunto de entrenamiento\n",
        "poly_expansion = PolynomialExpansion(inputCol=\"features\", outputCol=\"poly_features\", degree=2)\n",
        "\n",
        "# Transformar los datos de entrenamiento y de prueba\n",
        "train_df_poly = poly_expansion.transform(train_df)\n",
        "test_df_poly = poly_expansion.transform(test_df)\n",
        "\n",
        "# Verificar que se haya creado la columna 'poly_features'\n",
        "train_df_poly.select('features', 'poly_features').show(5)\n",
        "test_df_poly.select('features', 'poly_features').show(5)\n"
      ],
      "metadata": {
        "colab": {
          "base_uri": "https://localhost:8080/"
        },
        "id": "Bo_XOuyswuPG",
        "outputId": "be82f6d3-58c4-49ba-9cc5-10bfb413762f"
      },
      "execution_count": null,
      "outputs": [
        {
          "output_type": "stream",
          "name": "stdout",
          "text": [
            "+--------------------+--------------------+\n",
            "|            features|       poly_features|\n",
            "+--------------------+--------------------+\n",
            "|(15,[0,3,11],[247...|(135,[0,1,9,10,13...|\n",
            "|(15,[0,10],[3711....|(135,[0,1,65,66,7...|\n",
            "|(15,[0,2,13],[258...|(135,[0,1,5,6,8,1...|\n",
            "|(15,[0,2,12],[258...|(135,[0,1,5,6,8,9...|\n",
            "|(15,[0,3,8],[2586...|(135,[0,1,9,10,13...|\n",
            "+--------------------+--------------------+\n",
            "only showing top 5 rows\n",
            "\n",
            "+--------------------+--------------------+\n",
            "|            features|       poly_features|\n",
            "+--------------------+--------------------+\n",
            "|(15,[0,13],[2486....|(135,[0,1,104,105...|\n",
            "|(15,[0,3,8],[2475...|(135,[0,1,9,10,13...|\n",
            "|(15,[0,1,8],[867....|(135,[0,1,2,3,4,4...|\n",
            "|(15,[0,1,11],[119...|(135,[0,1,2,3,4,7...|\n",
            "|(15,[0,1,13],[733...|(135,[0,1,2,3,4,1...|\n",
            "+--------------------+--------------------+\n",
            "only showing top 5 rows\n",
            "\n"
          ]
        }
      ]
    },
    {
      "cell_type": "code",
      "source": [
        "# Crear el modelo de regresión lineal para las características transformadas\n",
        "lr_poly = LinearRegression(featuresCol=\"poly_features\", labelCol=\"delay\")\n",
        "\n",
        "# Entrenar el modelo con los datos de entrenamiento transformados\n",
        "lr_poly_model = lr_poly.fit(train_df_poly)\n",
        "\n",
        "# Realizar las predicciones en el conjunto de prueba transformado\n",
        "predictions_poly = lr_poly_model.transform(test_df_poly)\n",
        "\n",
        "# Calcular el valor R^2 para el modelo polinómico\n",
        "r2_poly = evaluator.evaluate(predictions_poly)\n",
        "print(f\"R^2 para el modelo de regresión polinómica de grado 2: {r2_poly}\")\n"
      ],
      "metadata": {
        "colab": {
          "base_uri": "https://localhost:8080/"
        },
        "id": "OUiQFyzMxry-",
        "outputId": "9363c44c-97e2-4946-fe29-4a7f05c75978"
      },
      "execution_count": null,
      "outputs": [
        {
          "output_type": "stream",
          "name": "stdout",
          "text": [
            "R^2 para el modelo de regresión polinómica de grado 2: 0.051993631619496994\n"
          ]
        }
      ]
    },
    {
      "cell_type": "code",
      "source": [
        "print(f\"R^2 de la regresión lineal simple: {r2_lr}\")\n",
        "print(f\"R^2 de la regresión polinómica de grado 2: {r2_poly}\")\n"
      ],
      "metadata": {
        "colab": {
          "base_uri": "https://localhost:8080/"
        },
        "id": "c0pi2yVKyQo4",
        "outputId": "eafff273-cf5b-4c9f-80fb-c6a3b21e3567"
      },
      "execution_count": null,
      "outputs": [
        {
          "output_type": "stream",
          "name": "stdout",
          "text": [
            "R^2 de la regresión lineal simple: 0.04411356197227101\n",
            "R^2 de la regresión polinómica de grado 2: 0.051993631619496994\n"
          ]
        }
      ]
    },
    {
      "cell_type": "markdown",
      "source": [
        "Los resultados muestran que el modelo de regresión polinómica de grado 2 es levemente mejor pero aún insuficiente para ser válido. Aunque ambos valores son bajos, el modelo polinómico tiene un rendimiento ligeramente mejor debido a que captura relaciones no lineales entre las variables predictoras y la variable objetivo (delay), lo cual permite que el modelo ajuste mejor los datos complejos que no pueden ser capturados por una regresión lineal simple."
      ],
      "metadata": {
        "id": "PiRmA6A-yQCg"
      }
    },
    {
      "cell_type": "markdown",
      "source": [
        "#Exportar la Notebook\n",
        "\n",
        "- El mejor modelo es el de Regresión Múltiple, por lo que vamos a exportarlo"
      ],
      "metadata": {
        "id": "sFeCeMbozKhA"
      }
    },
    {
      "cell_type": "code",
      "source": [
        "# Guardar el modelo de regresión polinómica\n",
        "lr_poly_model.save(\"/mnt/data/trained_model\")\n"
      ],
      "metadata": {
        "id": "DLNeZjGIzKQN"
      },
      "execution_count": null,
      "outputs": []
    },
    {
      "cell_type": "code",
      "source": [
        "from google.colab import drive\n",
        "\n",
        "# Montar Google Drive\n",
        "drive.mount('/content/drive')\n"
      ],
      "metadata": {
        "colab": {
          "base_uri": "https://localhost:8080/"
        },
        "id": "k0jwP3sUzwEc",
        "outputId": "5065d5c0-112b-4e81-b447-dd3632607273"
      },
      "execution_count": null,
      "outputs": [
        {
          "output_type": "stream",
          "name": "stdout",
          "text": [
            "Mounted at /content/drive\n"
          ]
        }
      ]
    },
    {
      "cell_type": "code",
      "source": [
        "# Guardar el modelo de regresión polinómica en Google Drive\n",
        "model_save_path = '/content/drive/My Drive/trained_model'\n",
        "lr_poly_model.save(model_save_path)\n"
      ],
      "metadata": {
        "id": "_CS1LJ3byp9t"
      },
      "execution_count": null,
      "outputs": []
    }
  ]
}